{
 "cells": [
  {
   "cell_type": "markdown",
   "metadata": {},
   "source": [
    "# PyVis Test"
   ]
  },
  {
   "cell_type": "code",
   "execution_count": 1,
   "metadata": {},
   "outputs": [],
   "source": [
    "import openalea\n",
    "from openalea.mtg import *\n",
    "from openalea.mtg.data import data_dir as data\n",
    "from oawidgets.mtg import plot"
   ]
  },
  {
   "cell_type": "code",
   "execution_count": 2,
   "metadata": {},
   "outputs": [
    {
     "name": "stdout",
     "output_type": "stream",
     "text": [
      "198\n"
     ]
    },
    {
     "data": {
      "text/plain": [
       "3"
      ]
     },
     "execution_count": 2,
     "metadata": {},
     "output_type": "execute_result"
    }
   ],
   "source": [
    "g = MTG(data/'boutdenoylum2.mtg')\n",
    "print(g.nb_vertices(scale=g.max_scale()))\n",
    "g.max_scale()"
   ]
  },
  {
   "cell_type": "code",
   "execution_count": 3,
   "metadata": {},
   "outputs": [
    {
     "name": "stdout",
     "output_type": "stream",
     "text": [
      "MTG : nb_vertices=263, nb_scales=4\n",
      "/P1\t\t\t(id=1)\t\t\t\t\t\t\t\t\t\t\t\n",
      "^/A1\t\t\t(id=2)\t\t\t\t\t\t\t\t\t\t\t\n",
      "^/S1\t\t\t(id=3)\t\t\t\t\t\t\t\t\t\t\t\n",
      "\t+A1\t\t\t(id=4)\t\t\t\t\t\t\t\t\t\t\n",
      "\t^/S1\t\t\t(id=5)\t\t\t\t\t\t\t\t\t\t\n",
      "^<S2\t\t\t(id=6)\t\t\t\t\t\t\t\t\t\t\t\n",
      "\t+A1\t\t\t(id=7)\t\t\t\t\t\t\t\t\t\t\n",
      "\t^/S1\t\t\t(id=8)\t\t\t\t\t\t\t\t\t\t\n",
      "^<S3\t\t\t(id=9)\t\t\t\t\t\t\t\t\t\t\t\n",
      "\t+A1\t\t\t(id=10)\t\t\t\t\t\t\t\t\t\t\n",
      "\t^/S1\t\t\t(id=11)\t\t\t\t\t\t\t\t\t\t\n",
      "^<S4\t\t\t(id=12)\t\t\t\t\t\t\t\t\t\t\t\n",
      "\t+A1\t\t\t(id=13)\t\t\t\t\t\t\t\t\t\t\n",
      "\t^/S1\t\t\t(id=14)\t\t\t\t\t\t\t\t\t\t\n",
      "^<S5\t\t\t(id=15)\t\t\t\t\t\t\t\t\t\t\t\n",
      "\t+A1\t\t\t(id=16)\t\t\t\t\t\t\t\t\t\t\n",
      "\t^/S1\t\t\t(id=17)\t\t\t\t\t\t\t\t\t\t\n",
      "^<S6\t\t\t(id=18)\t\t\t\t\t\t\t\t\t\t\t\n",
      "\t+A1\t\t\t(id=19)\t\t\t\t\t\t\t\t\t\t\n",
      "\t^/S1\t\t\t(id=20)\t\t\t\t\t\t\t\t\t\t\n",
      "^<S7\t\t\t(id=21)\t\t\t\t\t\t\t\t\t\t\t\n",
      "\t+A1\t\t\t(id=22)\t\t\t\t\t\t\t\t\t\t\n",
      "\t^/S1\t\t\t(id=23)\t\t\t\t\t\t\t\t\t\t\n",
      "^<S8\t\t\t(id=24)\t\t\t\t\t\t\t\t\t\t\t\n",
      "\t+A1\t\t\t(id=25)\t\t\t\t\t\t\t\t\t\t\n",
      "\t^/S1\t\t\t(id=26)\t\t\t\t\t\t\t\t\t\t\n",
      "^<S9\t\t\t(id=27)\t\t\t\t\t\t\t\t\t\t\t\n",
      "\t+A1\t\t\t(id=28)\t\t\t\t\t\t\t\t\t\t\n",
      "\t^/S1\t\t\t(id=29)\t\t\t\t\t\t\t\t\t\t\n",
      "^<S10\t\t\t(id=30)\t\t\t\t\t\t\t\t\t\t\t\n",
      "^<S11\t\t\t(id=31)\t\t\t\t\t\t\t\t\t\t\t\n",
      "\t+A1\t\t\t(id=32)\t\t\t\t\t\t\t\t\t\t\n",
      "\t^/S1\t\t\t(id=33)\t\t\t\t\t\t\t\t\t\t\n",
      "\t\t+A1\t\t\t(id=34)\t\t\t\t\t\t\t\t\t\n",
      "\t\t^/S1\t\t\t(id=35)\t\t\t\t\t\t\t\t\t\n",
      "\t\t\t+A1\t\t\t(id=36)\t\t\t\t\t\t\t\t\n",
      "\t\t\t^/S1\t\t\t(id=37)\t\t\t\t\t\t\t\t\n",
      "\t\t\t^<U1\t\t\t(id=38)\t\t\t\t\t\t\t\t\n",
      "\t\t\t^<U2\t\t\t(id=39)\t\t\t\t\t\t\t\t\n",
      "\t\t^<S2\t\t\t(id=40)\t\t\t\t\t\t\t\t\t\n",
      "\t\t^<S3\t\t\t(id=41)\t\t\t\t\t\t\t\t\t\n",
      "\t\t\t+A1\t\t\t(id=42)\t\t\t\t\t\t\t\t\n",
      "\t\t\t^/S1\t\t\t(id=43)\t\t\t\t\t\t\t\t\n",
      "\t\t\t^<U1\t\t\t(id=44)\t\t\t\t\t\t\t\t\n",
      "\t\t\t^<U2\t\t\t(id=45)\t\t\t\t\t\t\t\t\n",
      "\t\t^<S4\t\t\t(id=46)\t\t\t\t\t\t\t\t\t\n",
      "\t\t\t+A1\t\t\t(id=47)\t\t\t\t\t\t\t\t\n",
      "\t\t\t^/S1\t\t\t(id=48)\t\t\t\t\t\t\t\t\n",
      "\t\t\t^<U1\t\t\t(id=49)\t\t\t\t\t\t\t\t\n",
      "\t\t\t^<U2\t\t\t(id=50)\t\t\t\t\t\t\t\t\n",
      "\t\t^<S5\t\t\t(id=51)\t\t\t\t\t\t\t\t\t\n",
      "\t^<S2\t\t\t(id=52)\t\t\t\t\t\t\t\t\t\t\n",
      "\t\t+A1\t\t\t(id=53)\t\t\t\t\t\t\t\t\t\n",
      "\t\t^/S1\t\t\t(id=54)\t\t\t\t\t\t\t\t\t\n",
      "\t\t^<S2\t\t\t(id=55)\t\t\t\t\t\t\t\t\t\n",
      "\t\t\t+A1\t\t\t(id=56)\t\t\t\t\t\t\t\t\n",
      "\t\t\t^/S1\t\t\t(id=57)\t\t\t\t\t\t\t\t\n",
      "\t\t\t^<U1\t\t\t(id=58)\t\t\t\t\t\t\t\t\n",
      "\t\t\t^<U2\t\t\t(id=59)\t\t\t\t\t\t\t\t\n",
      "\t\t^<S3\t\t\t(id=60)\t\t\t\t\t\t\t\t\t\n",
      "\t\t\t+A1\t\t\t(id=61)\t\t\t\t\t\t\t\t\n",
      "\t\t\t^/S1\t\t\t(id=62)\t\t\t\t\t\t\t\t\n",
      "\t\t\t^<U1\t\t\t(id=63)\t\t\t\t\t\t\t\t\n",
      "\t\t\t^<U2\t\t\t(id=64)\t\t\t\t\t\t\t\t\n",
      "\t\t^<S4\t\t\t(id=65)\t\t\t\t\t\t\t\t\t\n",
      "\t\t^<S5\t\t\t(id=66)\t\t\t\t\t\t\t\t\t\n",
      "\t^<S3\t\t\t(id=67)\t\t\t\t\t\t\t\t\t\t\n",
      "\t\t+A1\t\t\t(id=68)\t\t\t\t\t\t\t\t\t\n",
      "\t\t^/S1\t\t\t(id=69)\t\t\t\t\t\t\t\t\t\n",
      "\t\t\t+A1\t\t\t(id=70)\t\t\t\t\t\t\t\t\n",
      "\t\t\t^/S1\t\t\t(id=71)\t\t\t\t\t\t\t\t\n",
      "\t\t\t^<S2\t\t\t(id=72)\t\t\t\t\t\t\t\t\n",
      "\t\t\t^<U1\t\t\t(id=73)\t\t\t\t\t\t\t\t\n",
      "\t\t\t^<U2\t\t\t(id=74)\t\t\t\t\t\t\t\t\n",
      "\t\t^<S2\t\t\t(id=75)\t\t\t\t\t\t\t\t\t\n",
      "\t\t\t+A1\t\t\t(id=76)\t\t\t\t\t\t\t\t\n",
      "\t\t\t^/S1\t\t\t(id=77)\t\t\t\t\t\t\t\t\n",
      "\t\t\t\t+A1\t\t\t(id=78)\t\t\t\t\t\t\t\n",
      "\t\t\t\t^/S1\t\t\t(id=79)\t\t\t\t\t\t\t\n",
      "\t\t\t\t^<U1\t\t\t(id=80)\t\t\t\t\t\t\t\n",
      "\t\t\t\t^<U2\t\t\t(id=81)\t\t\t\t\t\t\t\n",
      "\t\t\t^<S2\t\t\t(id=82)\t\t\t\t\t\t\t\t\n",
      "\t\t^<S3\t\t\t(id=83)\t\t\t\t\t\t\t\t\t\n",
      "\t\t\t+A1\t\t\t(id=84)\t\t\t\t\t\t\t\t\n",
      "\t\t\t^/S1\t\t\t(id=85)\t\t\t\t\t\t\t\t\n",
      "\t\t\t^<S2\t\t\t(id=86)\t\t\t\t\t\t\t\t\n",
      "\t\t\t^<U1\t\t\t(id=87)\t\t\t\t\t\t\t\t\n",
      "\t\t\t^<U2\t\t\t(id=88)\t\t\t\t\t\t\t\t\n",
      "\t\t^<S4\t\t\t(id=89)\t\t\t\t\t\t\t\t\t\n",
      "\t\t\t+A1\t\t\t(id=90)\t\t\t\t\t\t\t\t\n",
      "\t\t\t^/S1\t\t\t(id=91)\t\t\t\t\t\t\t\t\n",
      "\t\t\t^<S2\t\t\t(id=92)\t\t\t\t\t\t\t\t\n",
      "\t\t\t^<U1\t\t\t(id=93)\t\t\t\t\t\t\t\t\n",
      "\t\t\t^<U2\t\t\t(id=94)\t\t\t\t\t\t\t\t\n",
      "\t\t^<S5\t\t\t(id=95)\t\t\t\t\t\t\t\t\t\n",
      "\t\t\t+A1\t\t\t(id=96)\t\t\t\t\t\t\t\t\n",
      "\t\t\t^/S1\t\t\t(id=97)\t\t\t\t\t\t\t\t\n",
      "\t\t\t\t+A1\t\t\t(id=98)\t\t\t\t\t\t\t\n",
      "\t\t\t\t^/U1\t\t\t(id=99)\t\t\t\t\t\t\t\n",
      "\t\t\t\t^<U2\t\t\t(id=100)\t\t\t\t\t\t\t\n",
      "\t\t\t^<U1\t\t\t(id=101)\t\t\t\t\t\t\t\t\n",
      "\t\t\t^<U2\t\t\t(id=102)\t\t\t\t\t\t\t\t\n",
      "\t\t^<S6\t\t\t(id=103)\t\t\t\t\t\t\t\t\t\n",
      "\t\t\t+A1\t\t\t(id=104)\t\t\t\t\t\t\t\t\n",
      "\t\t\t^/S1\t\t\t(id=105)\t\t\t\t\t\t\t\t\n",
      "\t\t\t\t+A1\t\t\t(id=106)\t\t\t\t\t\t\t\n",
      "\t\t\t\t^/S1\t\t\t(id=107)\t\t\t\t\t\t\t\n",
      "\t\t\t\t\t+A1\t\t\t(id=108)\t\t\t\t\t\t\n",
      "\t\t\t\t\t^/U1\t\t\t(id=109)\t\t\t\t\t\t\n",
      "\t\t\t\t\t^<U2\t\t\t(id=110)\t\t\t\t\t\t\n",
      "\t\t\t\t^<U1\t\t\t(id=111)\t\t\t\t\t\t\t\n",
      "\t\t\t\t^<U2\t\t\t(id=112)\t\t\t\t\t\t\t\n",
      "\t\t\t^<S2\t\t\t(id=113)\t\t\t\t\t\t\t\t\n",
      "\t\t\t\t+A1\t\t\t(id=114)\t\t\t\t\t\t\t\n",
      "\t\t\t\t^/S1\t\t\t(id=115)\t\t\t\t\t\t\t\n",
      "\t\t\t\t^<U1\t\t\t(id=116)\t\t\t\t\t\t\t\n",
      "\t\t\t\t^<U2\t\t\t(id=117)\t\t\t\t\t\t\t\n",
      "\t\t\t^<S3\t\t\t(id=118)\t\t\t\t\t\t\t\t\n",
      "\t\t\t\t+A2\t\t\t(id=119)\t\t\t\t\t\t\t\n",
      "\t\t\t\t^/S1\t\t\t(id=120)\t\t\t\t\t\t\t\n",
      "\t\t\t\t^<S2\t\t\t(id=121)\t\t\t\t\t\t\t\n",
      "\t\t\t\t\t+A1\t\t\t(id=122)\t\t\t\t\t\t\n",
      "\t\t\t\t\t^/U1\t\t\t(id=123)\t\t\t\t\t\t\n",
      "\t\t\t\t\t^<U2\t\t\t(id=124)\t\t\t\t\t\t\n",
      "\t\t\t\t^<U1\t\t\t(id=125)\t\t\t\t\t\t\t\n",
      "\t\t\t\t^<U2\t\t\t(id=126)\t\t\t\t\t\t\t\n",
      "\t\t^<S7\t\t\t(id=127)\t\t\t\t\t\t\t\t\t\n",
      "\t\t^<S8\t\t\t(id=128)\t\t\t\t\t\t\t\t\t\n",
      "\t\t\t+A1\t\t\t(id=129)\t\t\t\t\t\t\t\t\n",
      "\t\t\t^/S1\t\t\t(id=130)\t\t\t\t\t\t\t\t\n",
      "\t\t\t^<U1\t\t\t(id=131)\t\t\t\t\t\t\t\t\n",
      "\t\t\t^<U2\t\t\t(id=132)\t\t\t\t\t\t\t\t\n",
      "\t\t^<S9\t\t\t(id=133)\t\t\t\t\t\t\t\t\t\n",
      "\t\t^<S10\t\t\t(id=134)\t\t\t\t\t\t\t\t\t\n",
      "\t\t^<U1\t\t\t(id=135)\t\t\t\t\t\t\t\t\t\n",
      "\t\t^<U2\t\t\t(id=136)\t\t\t\t\t\t\t\t\t\n",
      "\t^<S4\t\t\t(id=137)\t\t\t\t\t\t\t\t\t\t\n",
      "\t\t+A1\t\t\t(id=138)\t\t\t\t\t\t\t\t\t\n",
      "\t\t^/S1\t\t\t(id=139)\t\t\t\t\t\t\t\t\t\n",
      "\t\t\t+A1\t\t\t(id=140)\t\t\t\t\t\t\t\t\n",
      "\t\t\t^/S1\t\t\t(id=141)\t\t\t\t\t\t\t\t\n",
      "\t\t\t^<S2\t\t\t(id=142)\t\t\t\t\t\t\t\t\n",
      "\t\t\t\t+A1\t\t\t(id=143)\t\t\t\t\t\t\t\n",
      "\t\t\t\t^/S1\t\t\t(id=144)\t\t\t\t\t\t\t\n",
      "\t\t\t\t^<U1\t\t\t(id=145)\t\t\t\t\t\t\t\n",
      "\t\t\t\t^<U2\t\t\t(id=146)\t\t\t\t\t\t\t\n",
      "\t\t\t^<S3\t\t\t(id=147)\t\t\t\t\t\t\t\t\n",
      "\t\t\t^<U1\t\t\t(id=148)\t\t\t\t\t\t\t\t\n",
      "\t\t\t^<U2\t\t\t(id=149)\t\t\t\t\t\t\t\t\n",
      "\t\t^<S2\t\t\t(id=150)\t\t\t\t\t\t\t\t\t\n",
      "\t\t^<S3\t\t\t(id=151)\t\t\t\t\t\t\t\t\t\n",
      "\t\t\t+A1\t\t\t(id=152)\t\t\t\t\t\t\t\t\n",
      "\t\t\t^/S1\t\t\t(id=153)\t\t\t\t\t\t\t\t\n",
      "\t\t\t\t+A1\t\t\t(id=154)\t\t\t\t\t\t\t\n",
      "\t\t\t\t^/S1\t\t\t(id=155)\t\t\t\t\t\t\t\n",
      "\t\t\t\t^<U1\t\t\t(id=156)\t\t\t\t\t\t\t\n",
      "\t\t\t\t^<U2\t\t\t(id=157)\t\t\t\t\t\t\t\n",
      "\t\t\t^<S2\t\t\t(id=158)\t\t\t\t\t\t\t\t\n",
      "\t\t\t^<U1\t\t\t(id=159)\t\t\t\t\t\t\t\t\n",
      "\t\t\t^<U2\t\t\t(id=160)\t\t\t\t\t\t\t\t\n",
      "\t\t^<S4\t\t\t(id=161)\t\t\t\t\t\t\t\t\t\n",
      "\t\t\t+A1\t\t\t(id=162)\t\t\t\t\t\t\t\t\n",
      "\t\t\t^/U1\t\t\t(id=163)\t\t\t\t\t\t\t\t\n",
      "\t\t\t^<U2\t\t\t(id=164)\t\t\t\t\t\t\t\t\n",
      "\t\t^<S5\t\t\t(id=165)\t\t\t\t\t\t\t\t\t\n",
      "\t\t^<U1\t\t\t(id=166)\t\t\t\t\t\t\t\t\t\n",
      "\t\t^<U2\t\t\t(id=167)\t\t\t\t\t\t\t\t\t\n",
      "\t^<S5\t\t\t(id=168)\t\t\t\t\t\t\t\t\t\t\n",
      "\t\t+A1\t\t\t(id=169)\t\t\t\t\t\t\t\t\t\n",
      "\t\t^/S1\t\t\t(id=170)\t\t\t\t\t\t\t\t\t\n",
      "\t\t\t+A1\t\t\t(id=171)\t\t\t\t\t\t\t\t\n",
      "\t\t\t^/S1\t\t\t(id=172)\t\t\t\t\t\t\t\t\n",
      "\t\t\t^<U1\t\t\t(id=173)\t\t\t\t\t\t\t\t\n",
      "\t\t\t^<U2\t\t\t(id=174)\t\t\t\t\t\t\t\t\n",
      "\t\t^<S2\t\t\t(id=175)\t\t\t\t\t\t\t\t\t\n",
      "\t^<S6\t\t\t(id=176)\t\t\t\t\t\t\t\t\t\t\n",
      "\t\t+A1\t\t\t(id=177)\t\t\t\t\t\t\t\t\t\n",
      "\t\t^/S1\t\t\t(id=178)\t\t\t\t\t\t\t\t\t\n",
      "\t\t\t+A1\t\t\t(id=179)\t\t\t\t\t\t\t\t\n",
      "\t\t\t^/S1\t\t\t(id=180)\t\t\t\t\t\t\t\t\n",
      "\t\t\t\t+A1\t\t\t(id=181)\t\t\t\t\t\t\t\n",
      "\t\t\t\t^/S1\t\t\t(id=182)\t\t\t\t\t\t\t\n",
      "\t\t\t\t^<U1\t\t\t(id=183)\t\t\t\t\t\t\t\n",
      "\t\t\t\t^<U2\t\t\t(id=184)\t\t\t\t\t\t\t\n",
      "\t\t\t^<S2\t\t\t(id=185)\t\t\t\t\t\t\t\t\n",
      "\t\t\t\t+A1\t\t\t(id=186)\t\t\t\t\t\t\t\n",
      "\t\t\t\t^/S1\t\t\t(id=187)\t\t\t\t\t\t\t\n",
      "\t\t\t\t^<U1\t\t\t(id=188)\t\t\t\t\t\t\t\n",
      "\t\t\t\t^<U2\t\t\t(id=189)\t\t\t\t\t\t\t\n",
      "\t\t\t^<S3\t\t\t(id=190)\t\t\t\t\t\t\t\t\n",
      "\t\t^<S2\t\t\t(id=191)\t\t\t\t\t\t\t\t\t\n",
      "\t\t\t+A1\t\t\t(id=192)\t\t\t\t\t\t\t\t\n",
      "\t\t\t^/S1\t\t\t(id=193)\t\t\t\t\t\t\t\t\n",
      "\t\t\t\t+A1\t\t\t(id=194)\t\t\t\t\t\t\t\n",
      "\t\t\t\t^/S1\t\t\t(id=195)\t\t\t\t\t\t\t\n",
      "\t\t\t\t\t+A1\t\t\t(id=196)\t\t\t\t\t\t\n",
      "\t\t\t\t\t^/U1\t\t\t(id=197)\t\t\t\t\t\t\n",
      "\t\t\t\t\t^<U2\t\t\t(id=198)\t\t\t\t\t\t\n",
      "\t\t\t\t^<S2\t\t\t(id=199)\t\t\t\t\t\t\t\n",
      "\t\t\t\t\t+A1\t\t\t(id=200)\t\t\t\t\t\t\n",
      "\t\t\t\t\t^/U1\t\t\t(id=201)\t\t\t\t\t\t\n",
      "\t\t\t\t\t^<U2\t\t\t(id=202)\t\t\t\t\t\t\n",
      "\t\t\t\t^<S3\t\t\t(id=203)\t\t\t\t\t\t\t\n",
      "\t\t\t^<S2\t\t\t(id=204)\t\t\t\t\t\t\t\t\n",
      "\t\t\t\t+A1\t\t\t(id=205)\t\t\t\t\t\t\t\n",
      "\t\t\t\t^/S1\t\t\t(id=206)\t\t\t\t\t\t\t\n",
      "\t\t\t\t\t+A1\t\t\t(id=207)\t\t\t\t\t\t\n",
      "\t\t\t\t\t^/S1\t\t\t(id=208)\t\t\t\t\t\t\n",
      "\t\t\t\t\t^<U1\t\t\t(id=209)\t\t\t\t\t\t\n",
      "\t\t\t\t\t^<U2\t\t\t(id=210)\t\t\t\t\t\t\n",
      "\t\t\t\t^<S2\t\t\t(id=211)\t\t\t\t\t\t\t\n",
      "\t\t\t\t\t+A1\t\t\t(id=212)\t\t\t\t\t\t\n",
      "\t\t\t\t\t^/U1\t\t\t(id=213)\t\t\t\t\t\t\n",
      "\t\t\t\t\t^<U2\t\t\t(id=214)\t\t\t\t\t\t\n",
      "\t\t\t\t^<S3\t\t\t(id=215)\t\t\t\t\t\t\t\n",
      "\t\t\t\t\t+A1\t\t\t(id=216)\t\t\t\t\t\t\n",
      "\t\t\t\t\t^/U1\t\t\t(id=217)\t\t\t\t\t\t\n",
      "\t\t\t\t\t^<U2\t\t\t(id=218)\t\t\t\t\t\t\n",
      "\t\t\t\t^<S4\t\t\t(id=219)\t\t\t\t\t\t\t\n",
      "\t\t\t^<S3\t\t\t(id=220)\t\t\t\t\t\t\t\t\n",
      "\t\t\t\t+A1\t\t\t(id=221)\t\t\t\t\t\t\t\n",
      "\t\t\t\t^/S1\t\t\t(id=222)\t\t\t\t\t\t\t\n",
      "\t\t\t\t\t+A1\t\t\t(id=223)\t\t\t\t\t\t\n",
      "\t\t\t\t\t^/S1\t\t\t(id=224)\t\t\t\t\t\t\n",
      "\t\t\t\t\t^<U1\t\t\t(id=225)\t\t\t\t\t\t\n",
      "\t\t\t\t\t^<U2\t\t\t(id=226)\t\t\t\t\t\t\n",
      "\t\t\t\t^<S2\t\t\t(id=227)\t\t\t\t\t\t\t\n",
      "\t\t\t\t\t+A1\t\t\t(id=228)\t\t\t\t\t\t\n",
      "\t\t\t\t\t^/U1\t\t\t(id=229)\t\t\t\t\t\t\n",
      "\t\t\t\t\t^<U2\t\t\t(id=230)\t\t\t\t\t\t\n",
      "\t\t\t\t^<U1\t\t\t(id=231)\t\t\t\t\t\t\t\n",
      "\t\t\t\t^<U2\t\t\t(id=232)\t\t\t\t\t\t\t\n",
      "\t\t\t^<S4\t\t\t(id=233)\t\t\t\t\t\t\t\t\n",
      "\t\t\t\t+A1\t\t\t(id=234)\t\t\t\t\t\t\t\n",
      "\t\t\t\t^/S1\t\t\t(id=235)\t\t\t\t\t\t\t\n",
      "\t\t\t\t\t+A1\t\t\t(id=236)\t\t\t\t\t\t\n",
      "\t\t\t\t\t^/S1\t\t\t(id=237)\t\t\t\t\t\t\n",
      "\t\t\t\t\t\t+A1\t\t\t(id=238)\t\t\t\t\t\n",
      "\t\t\t\t\t\t^/U1\t\t\t(id=239)\t\t\t\t\t\n",
      "\t\t\t\t\t\t^<U2\t\t\t(id=240)\t\t\t\t\t\n",
      "\t\t\t\t\t^<U1\t\t\t(id=241)\t\t\t\t\t\t\n",
      "\t\t\t\t\t^<U2\t\t\t(id=242)\t\t\t\t\t\t\n",
      "\t\t\t\t^<S2\t\t\t(id=243)\t\t\t\t\t\t\t\n",
      "\t\t\t\t\t+A1\t\t\t(id=244)\t\t\t\t\t\t\n",
      "\t\t\t\t\t^/S1\t\t\t(id=245)\t\t\t\t\t\t\n",
      "\t\t\t\t\t\t+A1\t\t\t(id=246)\t\t\t\t\t\n",
      "\t\t\t\t\t\t^/U1\t\t\t(id=247)\t\t\t\t\t\n",
      "\t\t\t\t\t\t^<U2\t\t\t(id=248)\t\t\t\t\t\n",
      "\t\t\t\t\t^<S2\t\t\t(id=249)\t\t\t\t\t\t\n",
      "\t\t\t\t\t^<U1\t\t\t(id=250)\t\t\t\t\t\t\n",
      "\t\t\t\t\t^<U2\t\t\t(id=251)\t\t\t\t\t\t\n",
      "\t\t\t\t^<S3\t\t\t(id=252)\t\t\t\t\t\t\t\n",
      "\t\t\t\t\t+A1\t\t\t(id=253)\t\t\t\t\t\t\n",
      "\t\t\t\t\t^/U1\t\t\t(id=254)\t\t\t\t\t\t\n",
      "\t\t\t\t\t^<U2\t\t\t(id=255)\t\t\t\t\t\t\n",
      "\t\t\t\t^<S4\t\t\t(id=256)\t\t\t\t\t\t\t\n",
      "\t\t\t\t^<U1\t\t\t(id=257)\t\t\t\t\t\t\t\n",
      "\t\t\t\t^<U2\t\t\t(id=258)\t\t\t\t\t\t\t\n",
      "\t\t\t^<S5\t\t\t(id=259)\t\t\t\t\t\t\t\t\n",
      "\t\t\t\t+A1\t\t\t(id=260)\t\t\t\t\t\t\t\n",
      "\t\t\t\t^/U1\t\t\t(id=261)\t\t\t\t\t\t\t\n",
      "\t\t\t\t^<U2\t\t\t(id=262)\t\t\t\t\t\t\t\n"
     ]
    }
   ],
   "source": [
    "g.display()"
   ]
  },
  {
   "cell_type": "code",
   "execution_count": 4,
   "metadata": {},
   "outputs": [
    {
     "name": "stdout",
     "output_type": "stream",
     "text": [
      "mtg.html\n"
     ]
    },
    {
     "data": {
      "text/html": [
       "\n",
       "        <iframe\n",
       "            width=\"900px\"\n",
       "            height=\"800px\"\n",
       "            src=\"mtg.html\"\n",
       "            frameborder=\"0\"\n",
       "            allowfullscreen\n",
       "            \n",
       "        ></iframe>\n",
       "        "
      ],
      "text/plain": [
       "<IPython.lib.display.IFrame at 0x71123e3aa540>"
      ]
     },
     "execution_count": 4,
     "metadata": {},
     "output_type": "execute_result"
    }
   ],
   "source": [
    "plot(g)"
   ]
  },
  {
   "cell_type": "code",
   "execution_count": 5,
   "metadata": {},
   "outputs": [],
   "source": [
    "root = next(g.roots_iter(scale=g.max_scale()))\n",
    "selection = g.Trunk(root)"
   ]
  },
  {
   "cell_type": "code",
   "execution_count": 6,
   "metadata": {},
   "outputs": [
    {
     "name": "stdout",
     "output_type": "stream",
     "text": [
      "mtg.html\n"
     ]
    },
    {
     "data": {
      "text/html": [
       "\n",
       "        <iframe\n",
       "            width=\"900px\"\n",
       "            height=\"800px\"\n",
       "            src=\"mtg.html\"\n",
       "            frameborder=\"0\"\n",
       "            allowfullscreen\n",
       "            \n",
       "        ></iframe>\n",
       "        "
      ],
      "text/plain": [
       "<IPython.lib.display.IFrame at 0x71123d2e5220>"
      ]
     },
     "execution_count": 6,
     "metadata": {},
     "output_type": "execute_result"
    }
   ],
   "source": [
    "plot(g, selection=selection)"
   ]
  },
  {
   "cell_type": "code",
   "execution_count": 8,
   "metadata": {},
   "outputs": [
    {
     "name": "stdout",
     "output_type": "stream",
     "text": [
      "mtg.html\n"
     ]
    },
    {
     "data": {
      "text/html": [
       "\n",
       "        <iframe\n",
       "            width=\"900px\"\n",
       "            height=\"800px\"\n",
       "            src=\"mtg.html\"\n",
       "            frameborder=\"0\"\n",
       "            allowfullscreen\n",
       "            \n",
       "        ></iframe>\n",
       "        "
      ],
      "text/plain": [
       "<IPython.lib.display.IFrame at 0x71123d334920>"
      ]
     },
     "execution_count": 8,
     "metadata": {},
     "output_type": "execute_result"
    }
   ],
   "source": [
    "max_scale = g.max_scale()\n",
    "s = [vid for vid in g.vertices(scale=max_scale) if g.is_leaf(vid)]\n",
    "s = [next(g.component_roots_at_scale_iter(cid, scale=max_scale)) for cid in g.vertices(scale=max_scale-1)]\n",
    "root_id = 69\n",
    "s = g.Descendants(root_id)\n",
    "\n",
    "plot(g, selection=s)"
   ]
  },
  {
   "cell_type": "code",
   "execution_count": null,
   "metadata": {},
   "outputs": [],
   "source": []
  }
 ],
 "metadata": {
  "kernelspec": {
   "display_name": "Python 3 (ipykernel)",
   "language": "python",
   "name": "python3"
  },
  "language_info": {
   "codemirror_mode": {
    "name": "ipython",
    "version": 3
   },
   "file_extension": ".py",
   "mimetype": "text/x-python",
   "name": "python",
   "nbconvert_exporter": "python",
   "pygments_lexer": "ipython3",
   "version": "3.12.3"
  },
  "widgets": {
   "application/vnd.jupyter.widget-state+json": {
    "state": {},
    "version_major": 2,
    "version_minor": 0
   }
  }
 },
 "nbformat": 4,
 "nbformat_minor": 4
}
